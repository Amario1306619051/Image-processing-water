{
 "cells": [
  {
   "cell_type": "code",
   "execution_count": 2,
   "metadata": {},
   "outputs": [
    {
     "name": "stderr",
     "output_type": "stream",
     "text": [
      "2023-11-17 09:56:48.061 Python[32609:814004] WARNING: Secure coding is not enabled for restorable state! Enable secure coding by implementing NSApplicationDelegate.applicationSupportsSecureRestorableState: and returning YES.\n"
     ]
    }
   ],
   "source": [
    "import cv2\n",
    "\n",
    "arr = []\n",
    "# Fungsi callback untuk event mouse click\n",
    "def on_mouse_click(event, x, y, flags, param):\n",
    "    if event == cv2.EVENT_LBUTTONDOWN:\n",
    "        print(f\"Koordinat titik: ({x}, {y})\")\n",
    "        arr.append([x,y])\n",
    "\n",
    "# Baca gambar\n",
    "img = cv2.imread(r\"/Users/amariofausta/Downloads/WhatsApp Image 2023-11-14 at 9.16.25 AM.jpeg\")\n",
    "img = cv2.resize(img, (900,540))\n",
    "\n",
    "\n",
    "# Buat jendela OpenCV dan atur callback mouse click\n",
    "cv2.namedWindow('Image')\n",
    "cv2.setMouseCallback('Image', on_mouse_click)\n",
    "\n",
    "while True:\n",
    "    # Tampilkan gambar\n",
    "    cv2.imshow('Image', img)\n",
    "\n",
    "    # Tunggu sampai pengguna menekan tombol 'ESC' untuk keluar\n",
    "    key = cv2.waitKey(1) & 0xFF\n",
    "    if key == 27:\n",
    "        break\n",
    "\n",
    "# Tutup jendela OpenCV\n",
    "cv2.destroyAllWindows()"
   ]
  },
  {
   "cell_type": "code",
   "execution_count": 1,
   "metadata": {},
   "outputs": [
    {
     "ename": "NameError",
     "evalue": "name 'arr' is not defined",
     "output_type": "error",
     "traceback": [
      "\u001b[0;31m---------------------------------------------------------------------------\u001b[0m",
      "\u001b[0;31mNameError\u001b[0m                                 Traceback (most recent call last)",
      "Cell \u001b[0;32mIn[1], line 9\u001b[0m\n\u001b[1;32m      5\u001b[0m img \u001b[38;5;241m=\u001b[39m cv2\u001b[38;5;241m.\u001b[39mresize(img, (\u001b[38;5;241m900\u001b[39m,\u001b[38;5;241m540\u001b[39m))\n\u001b[1;32m      6\u001b[0m width, height \u001b[38;5;241m=\u001b[39m img\u001b[38;5;241m.\u001b[39mshape[\u001b[38;5;241m1\u001b[39m], img\u001b[38;5;241m.\u001b[39mshape[\u001b[38;5;241m0\u001b[39m]\n\u001b[0;32m----> 9\u001b[0m satu \u001b[38;5;241m=\u001b[39m \u001b[43marr\u001b[49m[\u001b[38;5;241m0\u001b[39m]\n\u001b[1;32m     10\u001b[0m dua \u001b[38;5;241m=\u001b[39m arr[\u001b[38;5;241m1\u001b[39m]\n\u001b[1;32m     11\u001b[0m tiga \u001b[38;5;241m=\u001b[39m arr[\u001b[38;5;241m2\u001b[39m]\n",
      "\u001b[0;31mNameError\u001b[0m: name 'arr' is not defined"
     ]
    }
   ],
   "source": [
    "import cv2\n",
    "import numpy as np\n",
    "\n",
    "img = cv2.imread(r\"/Users/amariofausta/Downloads/WhatsApp Image 2023-11-14 at 9.16.25 AM.jpeg\")\n",
    "img = cv2.resize(img, (900,540))\n",
    "width, height = img.shape[1], img.shape[0]\n",
    "\n",
    "\n",
    "satu = arr[0]\n",
    "dua = arr[1]\n",
    "tiga = arr[2]\n",
    "empat = arr[3]\n",
    "\n",
    "point_matrix = np.float32([satu,dua,tiga,empat])\n",
    "\n",
    "converted_point = np.float32([[0,0],[width,0],[0,height],[width,height]])\n",
    "\n",
    "perspective_transform = cv2.getPerspectiveTransform(point_matrix,converted_point)\n",
    "\n",
    "img_output = cv2.warpPerspective(img,perspective_transform,(width,height))\n",
    "\n",
    "\n",
    "cv2.imshow('before',img)\n",
    "cv2.imshow('after', img_output)\n",
    "cv2.waitKey(0)\n",
    "cv2.destroyAllWindows"
   ]
  },
  {
   "cell_type": "code",
   "execution_count": null,
   "metadata": {},
   "outputs": [],
   "source": []
  }
 ],
 "metadata": {
  "interpreter": {
   "hash": "b0fa6594d8f4cbf19f97940f81e996739fb7646882a419484c72d19e05852a7e"
  },
  "kernelspec": {
   "display_name": "Python 3.11.5 64-bit",
   "language": "python",
   "name": "python3"
  },
  "language_info": {
   "codemirror_mode": {
    "name": "ipython",
    "version": 3
   },
   "file_extension": ".py",
   "mimetype": "text/x-python",
   "name": "python",
   "nbconvert_exporter": "python",
   "pygments_lexer": "ipython3",
   "version": "3.11.5"
  },
  "orig_nbformat": 4
 },
 "nbformat": 4,
 "nbformat_minor": 2
}
